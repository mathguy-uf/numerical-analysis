{
 "cells": [
  {
   "cell_type": "code",
   "execution_count": 1,
   "metadata": {},
   "outputs": [
    {
     "name": "stdout",
     "output_type": "stream",
     "text": [
      "Please input a positive number: 7\n",
      "low= 0.0 high= 7.0 ans= 3.5\n",
      "low= 0.0 high= 3.5 ans= 1.75\n",
      "low= 1.75 high= 3.5 ans= 2.625\n",
      "low= 2.625 high= 3.5 ans= 3.0625\n",
      "low= 2.625 high= 3.0625 ans= 2.84375\n",
      "low= 2.625 high= 2.84375 ans= 2.734375\n",
      "low= 2.625 high= 2.734375 ans= 2.6796875\n",
      "low= 2.625 high= 2.6796875 ans= 2.65234375\n",
      "low= 2.625 high= 2.65234375 ans= 2.638671875\n",
      "numGuesses = 9\n",
      "2.6455078125  is close to the square root of  7.0\n"
     ]
    }
   ],
   "source": [
    "#Application of the bisection method. \n",
    "#User inputs a postive number A, \n",
    "#apply the bisection method to f(x)=x^2-A on [0.0 ,max(1.0,A)]\n",
    "\n",
    "x=abs(float(input(\"Please input a positive number: \")))\n",
    "\n",
    "epsilon = 0.01\n",
    "numGuesses = 0\n",
    "low = 0.0\n",
    "high = max(1.0,x)\n",
    "ans = (high+low)/2.0\n",
    "while abs(ans**2 - x) >= epsilon:\n",
    "    print('low=',low, 'high=',high,'ans=',ans)\n",
    "    numGuesses += 1\n",
    "    if ans**2 < x:\n",
    "        low=ans\n",
    "    else:\n",
    "        high = ans\n",
    "    ans = (high+low)/2.0\n",
    "print('numGuesses =', numGuesses)\n",
    "print(ans,' is close to the square root of ',x)"
   ]
  },
  {
   "cell_type": "code",
   "execution_count": null,
   "metadata": {},
   "outputs": [],
   "source": []
  },
  {
   "cell_type": "code",
   "execution_count": null,
   "metadata": {},
   "outputs": [],
   "source": []
  }
 ],
 "metadata": {
  "kernelspec": {
   "display_name": "Python 3",
   "language": "python",
   "name": "python3"
  },
  "language_info": {
   "codemirror_mode": {
    "name": "ipython",
    "version": 3
   },
   "file_extension": ".py",
   "mimetype": "text/x-python",
   "name": "python",
   "nbconvert_exporter": "python",
   "pygments_lexer": "ipython3",
   "version": "3.7.7"
  }
 },
 "nbformat": 4,
 "nbformat_minor": 4
}
