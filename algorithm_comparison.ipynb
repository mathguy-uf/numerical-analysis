{
 "cells": [
  {
   "cell_type": "code",
   "execution_count": 2,
   "metadata": {},
   "outputs": [],
   "source": [
    "#We will compare two different algorithms for computing the sequence\n",
    "#{1,1/3,1/9,1/27,1/81,...}"
   ]
  },
  {
   "cell_type": "code",
   "execution_count": 3,
   "metadata": {},
   "outputs": [],
   "source": [
    "#Algorithm 1\n",
    "def p(n):\n",
    "    \"\"\"Assume n is an integer greater than or equal to zero\"\"\"\n",
    "    if n == 0:\n",
    "        return 1\n",
    "    else:\n",
    "        return 1/3*p(n-1)"
   ]
  },
  {
   "cell_type": "code",
   "execution_count": 4,
   "metadata": {},
   "outputs": [
    {
     "name": "stdout",
     "output_type": "stream",
     "text": [
      "1\n",
      "0.3333333333333333\n",
      "0.1111111111111111\n",
      "0.037037037037037035\n",
      "0.012345679012345678\n",
      "0.004115226337448559\n",
      "0.001371742112482853\n",
      "0.0004572473708276176\n",
      "0.00015241579027587253\n",
      "5.080526342529084e-05\n",
      "1.693508780843028e-05\n",
      "5.64502926947676e-06\n",
      "1.8816764231589197e-06\n",
      "6.272254743863065e-07\n",
      "2.0907515812876884e-07\n"
     ]
    }
   ],
   "source": [
    "for i in range(15):\n",
    "    print(p(i))"
   ]
  },
  {
   "cell_type": "code",
   "execution_count": 5,
   "metadata": {},
   "outputs": [],
   "source": [
    "#Algorithm 2\n",
    "def q(n):\n",
    "    \"\"\"Assume n in an integer greater than or equal to zero\"\"\"\n",
    "    if n == 0:\n",
    "        return 1\n",
    "    elif n == 1:\n",
    "        return 1/3.\n",
    "    else:\n",
    "        return 13/3*q(n-1)-4/3*q(n-2)"
   ]
  },
  {
   "cell_type": "code",
   "execution_count": 6,
   "metadata": {},
   "outputs": [
    {
     "name": "stdout",
     "output_type": "stream",
     "text": [
      "1\n",
      "0.3333333333333333\n",
      "0.11111111111111094\n",
      "0.03703703703703626\n",
      "0.012345679012342514\n",
      "0.004115226337435884\n",
      "0.0013717421124321456\n",
      "0.00045724737062478524\n",
      "0.00015241578946454185\n",
      "5.0805260179967644e-05\n",
      "1.6935074827137338e-05\n",
      "5.644977344304949e-06\n",
      "1.8814687224716613e-06\n",
      "6.263946716372672e-07\n",
      "2.0575194713260943e-07\n"
     ]
    }
   ],
   "source": [
    "for i in range(15):\n",
    "    print(q(i))"
   ]
  },
  {
   "cell_type": "code",
   "execution_count": 7,
   "metadata": {},
   "outputs": [],
   "source": [
    "compare_table = [(i,(1/3)**i,p(i) , q(i),abs((1/3)**i-p(i)),abs((1/3)**i-q(i))) for i in range(21)]"
   ]
  },
  {
   "cell_type": "code",
   "execution_count": 8,
   "metadata": {},
   "outputs": [],
   "source": [
    "from tabulate import tabulate"
   ]
  },
  {
   "cell_type": "code",
   "execution_count": 9,
   "metadata": {},
   "outputs": [
    {
     "name": "stdout",
     "output_type": "stream",
     "text": [
      "  i      (1/3)^i         p(i)          q(i)    Abs Err p(i)    Abs Err q(i)\n",
      "---  -----------  -----------  ------------  --------------  --------------\n",
      "  0  1            1             1               0               0\n",
      "  1  0.333333     0.333333      0.333333        0               0\n",
      "  2  0.111111     0.111111      0.111111        0               1.66533e-16\n",
      "  3  0.037037     0.037037      0.037037        6.93889e-18     7.70217e-16\n",
      "  4  0.0123457    0.0123457     0.0123457       1.73472e-18     3.1624e-15\n",
      "  5  0.00411523   0.00411523    0.00411523      8.67362e-19     1.26739e-14\n",
      "  6  0.00137174   0.00137174    0.00137174      2.1684e-19      5.07071e-14\n",
      "  7  0.000457247  0.000457247   0.000457247     5.42101e-20     2.02832e-13\n",
      "  8  0.000152416  0.000152416   0.000152416     2.71051e-20     8.11331e-13\n",
      "  9  5.08053e-05  5.08053e-05   5.08053e-05     6.77626e-21     3.24532e-12\n",
      " 10  1.69351e-05  1.69351e-05   1.69351e-05     0               1.29813e-11\n",
      " 11  5.64503e-06  5.64503e-06   5.64498e-06     8.47033e-22     5.19252e-11\n",
      " 12  1.88168e-06  1.88168e-06   1.88147e-06     2.11758e-22     2.07701e-10\n",
      " 13  6.27225e-07  6.27225e-07   6.26395e-07     0               8.30803e-10\n",
      " 14  2.09075e-07  2.09075e-07   2.05752e-07     2.64698e-23     3.32321e-09\n",
      " 15  6.96917e-08  6.96917e-08   5.63989e-08     0               1.32928e-08\n",
      " 16  2.32306e-08  2.32306e-08  -2.99408e-08     3.30872e-24     5.31714e-08\n",
      " 17  7.74352e-09  7.74352e-09  -2.04942e-07     0               2.12686e-07\n",
      " 18  2.58117e-09  2.58117e-09  -8.48161e-07     4.1359e-25      8.50742e-07\n",
      " 19  8.60392e-10  8.60392e-10  -3.40211e-06     1.03398e-25     3.40297e-06\n",
      " 20  2.86797e-10  2.86797e-10  -1.36116e-05     5.16988e-26     1.36119e-05\n"
     ]
    }
   ],
   "source": [
    "print(tabulate(compare_table,headers=[\"i\",\"(1/3)^i\",\"p(i)\",\"q(i)\",\"Abs Err p(i)\",\"Abs Err q(i)\"]))"
   ]
  },
  {
   "cell_type": "code",
   "execution_count": null,
   "metadata": {},
   "outputs": [],
   "source": []
  },
  {
   "cell_type": "code",
   "execution_count": null,
   "metadata": {},
   "outputs": [],
   "source": []
  }
 ],
 "metadata": {
  "kernelspec": {
   "display_name": "Python 3",
   "language": "python",
   "name": "python3"
  },
  "language_info": {
   "codemirror_mode": {
    "name": "ipython",
    "version": 3
   },
   "file_extension": ".py",
   "mimetype": "text/x-python",
   "name": "python",
   "nbconvert_exporter": "python",
   "pygments_lexer": "ipython3",
   "version": "3.7.7"
  }
 },
 "nbformat": 4,
 "nbformat_minor": 4
}
