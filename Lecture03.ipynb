{
 "cells": [
  {
   "cell_type": "code",
   "execution_count": 21,
   "metadata": {},
   "outputs": [],
   "source": [
    "def my_max(x,y):\n",
    "    if x > y:\n",
    "        return x\n",
    "    else: \n",
    "        return y"
   ]
  },
  {
   "cell_type": "code",
   "execution_count": 22,
   "metadata": {},
   "outputs": [
    {
     "data": {
      "text/plain": [
       "3"
      ]
     },
     "execution_count": 22,
     "metadata": {},
     "output_type": "execute_result"
    }
   ],
   "source": [
    "my_max(2,3)"
   ]
  },
  {
   "cell_type": "code",
   "execution_count": 2,
   "metadata": {},
   "outputs": [],
   "source": [
    "def printName(firstName,lastName,reverse):\n",
    "    if reverse:\n",
    "        print(lastName+', '+firstName)\n",
    "    else:\n",
    "        print(firstName, lastName)"
   ]
  },
  {
   "cell_type": "code",
   "execution_count": 3,
   "metadata": {},
   "outputs": [
    {
     "name": "stdout",
     "output_type": "stream",
     "text": [
      "Jason Harrington\n"
     ]
    }
   ],
   "source": [
    "printName('Jason','Harrington',False)"
   ]
  },
  {
   "cell_type": "code",
   "execution_count": 23,
   "metadata": {},
   "outputs": [
    {
     "name": "stdout",
     "output_type": "stream",
     "text": [
      "Harrington, Jason\n"
     ]
    }
   ],
   "source": [
    "printName('Jason','Harrington',True)"
   ]
  },
  {
   "cell_type": "code",
   "execution_count": 8,
   "metadata": {},
   "outputs": [
    {
     "name": "stdout",
     "output_type": "stream",
     "text": [
      "Rick Sanchez\n",
      "Rick Sanchez\n",
      "Rick Sanchez\n",
      "Rick Sanchez\n"
     ]
    }
   ],
   "source": [
    "printName('Rick','Sanchez',False)\n",
    "printName(lastName = 'Sanchez',firstName = 'Rick',reverse=False)\n",
    "printName('Rick',lastName='Sanchez',reverse = False)\n",
    "printName('Rick','Sanchez',reverse = False)"
   ]
  },
  {
   "cell_type": "code",
   "execution_count": 9,
   "metadata": {},
   "outputs": [
    {
     "ename": "SyntaxError",
     "evalue": "positional argument follows keyword argument (<ipython-input-9-c7121bc7a051>, line 1)",
     "output_type": "error",
     "traceback": [
      "\u001b[1;36m  File \u001b[1;32m\"<ipython-input-9-c7121bc7a051>\"\u001b[1;36m, line \u001b[1;32m1\u001b[0m\n\u001b[1;33m    printName('Rick',lastName='Sanchez',False)\u001b[0m\n\u001b[1;37m                                       ^\u001b[0m\n\u001b[1;31mSyntaxError\u001b[0m\u001b[1;31m:\u001b[0m positional argument follows keyword argument\n"
     ]
    }
   ],
   "source": [
    "printName('Rick',lastName='Sanchez',False)"
   ]
  },
  {
   "cell_type": "code",
   "execution_count": 13,
   "metadata": {},
   "outputs": [],
   "source": [
    "def f(x): #name x as formal parameter\n",
    "    y=1\n",
    "    x=x+y\n",
    "    print('f(x)=',x)\n",
    "    return x"
   ]
  },
  {
   "cell_type": "code",
   "execution_count": 14,
   "metadata": {},
   "outputs": [
    {
     "name": "stdout",
     "output_type": "stream",
     "text": [
      "f(x)= 4\n",
      "y= 2\n",
      "x= 3\n"
     ]
    }
   ],
   "source": [
    "x=3\n",
    "y=2\n",
    "z=f(x)\n",
    "print('y=', y)\n",
    "print('x=',x)"
   ]
  },
  {
   "cell_type": "code",
   "execution_count": 15,
   "metadata": {},
   "outputs": [],
   "source": [
    "def f(x):\n",
    "    def g():\n",
    "        x='abc'\n",
    "        print('x=',x)\n",
    "    def h():\n",
    "        z=x\n",
    "        print('z=',z)\n",
    "    x = x + 1\n",
    "    print('x=',x)\n",
    "    h()\n",
    "    g()\n",
    "    print('x=',x)\n",
    "    return g"
   ]
  },
  {
   "cell_type": "code",
   "execution_count": 16,
   "metadata": {},
   "outputs": [
    {
     "name": "stdout",
     "output_type": "stream",
     "text": [
      "x= 4\n",
      "z= 4\n",
      "x= abc\n",
      "x= 4\n",
      "x= 3\n",
      "z= <function f.<locals>.g at 0x000001D90AF12B88>\n",
      "x= abc\n"
     ]
    }
   ],
   "source": [
    "x=3\n",
    "z = f(x)\n",
    "print('x=',x)\n",
    "print('z=',z)\n",
    "z()"
   ]
  },
  {
   "cell_type": "code",
   "execution_count": 28,
   "metadata": {},
   "outputs": [],
   "source": [
    "x=3"
   ]
  },
  {
   "cell_type": "code",
   "execution_count": 29,
   "metadata": {},
   "outputs": [
    {
     "name": "stdout",
     "output_type": "stream",
     "text": [
      "x= 4\n",
      "z= 4\n",
      "x= abc\n",
      "x= 4\n"
     ]
    }
   ],
   "source": [
    "z=f(3)"
   ]
  },
  {
   "cell_type": "code",
   "execution_count": 18,
   "metadata": {},
   "outputs": [],
   "source": [
    "def f():\n",
    "\tprint(x)\n",
    "\n",
    "def g():\n",
    "\tprint(x)\n",
    "\tx = 1"
   ]
  },
  {
   "cell_type": "code",
   "execution_count": 19,
   "metadata": {},
   "outputs": [
    {
     "name": "stdout",
     "output_type": "stream",
     "text": [
      "3\n"
     ]
    }
   ],
   "source": [
    "f()"
   ]
  },
  {
   "cell_type": "code",
   "execution_count": null,
   "metadata": {},
   "outputs": [],
   "source": []
  }
 ],
 "metadata": {
  "kernelspec": {
   "display_name": "Python 3",
   "language": "python",
   "name": "python3"
  },
  "language_info": {
   "codemirror_mode": {
    "name": "ipython",
    "version": 3
   },
   "file_extension": ".py",
   "mimetype": "text/x-python",
   "name": "python",
   "nbconvert_exporter": "python",
   "pygments_lexer": "ipython3",
   "version": "3.7.4"
  }
 },
 "nbformat": 4,
 "nbformat_minor": 2
}
